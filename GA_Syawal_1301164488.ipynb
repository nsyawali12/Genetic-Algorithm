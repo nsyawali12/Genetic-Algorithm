{
 "cells": [
  {
   "cell_type": "code",
   "execution_count": 1,
   "metadata": {},
   "outputs": [
    {
     "name": "stdout",
     "output_type": "stream",
     "text": [
      "Hellow World!\n",
      "This is Swarm Intelligence Project: Genetic Algorithm\n"
     ]
    }
   ],
   "source": [
    "import numpy as np\n",
    "import random\n",
    "import math\n",
    "\n",
    "hey = (\"Hellow World!\")\n",
    "print (hey)\n",
    "\n",
    "here = (\"This is Swarm Intelligence Project: Genetic Algorithm\")\n",
    "print (here) "
   ]
  },
  {
   "cell_type": "code",
   "execution_count": 2,
   "metadata": {},
   "outputs": [],
   "source": [
    "minX1 = -100\n",
    "maxX1 = 100\n",
    "minX2 = -100\n",
    "maxX2 = 100\n",
    "\n",
    "#panjang chromosome\n",
    "pchromosome = 20\n",
    "    "
   ]
  },
  {
   "cell_type": "code",
   "execution_count": 3,
   "metadata": {},
   "outputs": [],
   "source": [
    "def func1(x1,x2):\n",
    "    f1 = 0\n",
    "    f2 = 0\n",
    "    for i in range(1,6):\n",
    "        f1 += i*np.cos((i+1)*x1+1)\n",
    "        f2 += i*np.cos((i+1)*x2+1)\n",
    "    \n",
    "    f3 = f1*f2*-1\n",
    "    return(f3)"
   ]
  },
  {
   "cell_type": "code",
   "execution_count": 4,
   "metadata": {},
   "outputs": [
    {
     "data": {
      "text/plain": [
       "-65.68348088844648"
      ]
     },
     "execution_count": 4,
     "metadata": {},
     "output_type": "execute_result"
    }
   ],
   "source": [
    "#contoh pemanggilan func1(0,2)\n",
    "func1(0,0)"
   ]
  },
  {
   "cell_type": "code",
   "execution_count": 5,
   "metadata": {},
   "outputs": [
    {
     "data": {
      "text/plain": [
       "-0.9999923903915094"
      ]
     },
     "execution_count": 5,
     "metadata": {},
     "output_type": "execute_result"
    }
   ],
   "source": [
    "def func2(x1,x2):\n",
    "    #fungsi 2\n",
    "    fu2 = -np.cos(x1)*np.cos(x2)*np.exp(-(x1-np.pi)**2-(x2-np.pi)**2)\n",
    "    return(fu2)\n",
    "    \n",
    "func2(3.14,3.14)"
   ]
  },
  {
   "cell_type": "code",
   "execution_count": 6,
   "metadata": {},
   "outputs": [],
   "source": [
    "def fitness(func, x1, x2):\n",
    "    #pilih nilai c bebas asal diatas 1\n",
    "    c = 1.2\n",
    "    \n",
    "    #variabel nyimpen func\n",
    "    h = func(x1,x2)\n",
    "    return(c**h)"
   ]
  },
  {
   "cell_type": "code",
   "execution_count": 7,
   "metadata": {
    "scrolled": true
   },
   "outputs": [
    {
     "data": {
      "text/plain": [
       "7.938473308287485e-15"
      ]
     },
     "execution_count": 7,
     "metadata": {},
     "output_type": "execute_result"
    }
   ],
   "source": [
    "fitness(func1, 6, 6)"
   ]
  },
  {
   "cell_type": "code",
   "execution_count": 8,
   "metadata": {},
   "outputs": [],
   "source": [
    "# Decode the population\n",
    "def decode_chromosome(chromosome):\n",
    "    \n",
    "    c1 = int(chromosome/2)\n",
    "    #c2 = int(chromosome2/2)\n",
    "    dc1 = np.zeros(chromosome)\n",
    "    #dc2 = np.zeros(chromosome2)\n",
    "    dc1[0: c1] = 1\n",
    "    #dc2[0: c2] = 2\n",
    "    np.random.shuffle(dc1)\n",
    "    #np.random.shuffle(dc2)\n",
    "    return (dc1)\n",
    "    #return (dc2)\n",
    "    \n",
    " "
   ]
  },
  {
   "cell_type": "code",
   "execution_count": 9,
   "metadata": {},
   "outputs": [
    {
     "name": "stdout",
     "output_type": "stream",
     "text": [
      "[1. 0. 0. 1. 0. 0. 1. 1. 0. 1. 0. 1. 0. 0. 0. 0. 0. 0. 1. 0. 1. 1. 1. 1.\n",
      " 1. 1. 1. 0. 1. 1. 0. 0. 1. 0. 1. 0. 0. 1. 1. 0.]\n"
     ]
    }
   ],
   "source": [
    "#testing procedure\n",
    "print (decode_chromosome(40))"
   ]
  },
  {
   "cell_type": "code",
   "execution_count": 10,
   "metadata": {},
   "outputs": [],
   "source": [
    "def create_population(individu, pchromosome):\n",
    "    \n",
    "    population = np.zeros((individu, pchromosome))\n",
    "    for p in range(individu):\n",
    "        #random.radit buat lucky draw = angka beruntung :D nilai population\n",
    "        pop = random.randint(0, pchromosome)\n",
    "        \n",
    "        population[p, 0:pop] = 1\n",
    "        \n",
    "        np.random.shuffle(population[p])\n",
    "    return (population)"
   ]
  },
  {
   "cell_type": "code",
   "execution_count": 11,
   "metadata": {},
   "outputs": [
    {
     "name": "stdout",
     "output_type": "stream",
     "text": [
      "[[1. 1. 1. 1. 1. 1. 1. 1. 1. 1.]\n",
      " [0. 0. 0. 0. 0. 0. 0. 0. 1. 0.]\n",
      " [0. 0. 0. 1. 0. 0. 0. 0. 0. 0.]\n",
      " [1. 1. 1. 1. 0. 1. 1. 1. 1. 0.]]\n"
     ]
    }
   ],
   "source": [
    "print (create_population(4,10))"
   ]
  },
  {
   "cell_type": "code",
   "execution_count": 12,
   "metadata": {},
   "outputs": [],
   "source": [
    "#best population\n",
    "def best_pop(chromosome, population):\n",
    "    identik = population == chromosome\n",
    "    \n",
    "    fitsc = identik.sum(axis=1)\n",
    "    \n",
    "    return (fitsc)\n"
   ]
  },
  {
   "cell_type": "code",
   "execution_count": 13,
   "metadata": {},
   "outputs": [
    {
     "name": "stdout",
     "output_type": "stream",
     "text": [
      "Hasil Chromosome: \n",
      " [0. 0. 1. 1. 1. 0. 0. 1. 1. 0. 0. 1. 0. 1. 1. 1. 0. 0. 1. 0.]\n",
      "\n",
      " Hasil Population: \n",
      " [[1. 1. 1. 1. 1. 1. 1. 1. 1. 1. 1. 1. 1. 1. 1. 1. 1. 1. 1. 1.]\n",
      " [0. 0. 0. 0. 0. 0. 0. 0. 0. 1. 0. 0. 0. 0. 0. 0. 0. 0. 0. 0.]\n",
      " [0. 0. 0. 0. 0. 0. 0. 0. 0. 0. 0. 0. 0. 0. 0. 0. 0. 0. 0. 0.]\n",
      " [0. 0. 0. 1. 1. 0. 0. 0. 0. 1. 1. 0. 0. 1. 0. 0. 0. 0. 0. 0.]]\n",
      "\n",
      " identik atau terbaik: \n",
      " [10  9 10 11]\n",
      "\n",
      " fitness terbaik dari function 1: \n",
      " [[1.10779277e-04 1.10779277e-04 9.80878354e-04 9.80878354e-04\n",
      "  9.80878354e-04 1.10779277e-04 1.10779277e-04 9.80878354e-04\n",
      "  9.80878354e-04 1.10779277e-04 1.10779277e-04 9.80878354e-04\n",
      "  1.10779277e-04 9.80878354e-04 9.80878354e-04 9.80878354e-04\n",
      "  1.10779277e-04 1.10779277e-04 9.80878354e-04 1.10779277e-04]\n",
      " [6.29651350e-06 6.29651350e-06 1.10779277e-04 1.10779277e-04\n",
      "  1.10779277e-04 6.29651350e-06 6.29651350e-06 1.10779277e-04\n",
      "  1.10779277e-04 1.10779277e-04 6.29651350e-06 1.10779277e-04\n",
      "  6.29651350e-06 1.10779277e-04 1.10779277e-04 1.10779277e-04\n",
      "  6.29651350e-06 6.29651350e-06 1.10779277e-04 6.29651350e-06]\n",
      " [6.29651350e-06 6.29651350e-06 1.10779277e-04 1.10779277e-04\n",
      "  1.10779277e-04 6.29651350e-06 6.29651350e-06 1.10779277e-04\n",
      "  1.10779277e-04 6.29651350e-06 6.29651350e-06 1.10779277e-04\n",
      "  6.29651350e-06 1.10779277e-04 1.10779277e-04 1.10779277e-04\n",
      "  6.29651350e-06 6.29651350e-06 1.10779277e-04 6.29651350e-06]\n",
      " [6.29651350e-06 6.29651350e-06 1.10779277e-04 9.80878354e-04\n",
      "  9.80878354e-04 6.29651350e-06 6.29651350e-06 1.10779277e-04\n",
      "  1.10779277e-04 1.10779277e-04 1.10779277e-04 1.10779277e-04\n",
      "  6.29651350e-06 9.80878354e-04 1.10779277e-04 1.10779277e-04\n",
      "  6.29651350e-06 6.29651350e-06 1.10779277e-04 6.29651350e-06]]\n",
      "\n",
      " fitness terbaik dari function 2: \n",
      " [[0.99999995 0.99999995 0.99999447 0.99999447 0.99999447 0.99999995\n",
      "  0.99999995 0.99999447 0.99999447 0.99999995 0.99999995 0.99999447\n",
      "  0.99999995 0.99999447 0.99999447 0.99999447 0.99999995 0.99999995\n",
      "  0.99999447 0.99999995]\n",
      " [1.         1.         0.99999995 0.99999995 0.99999995 1.\n",
      "  1.         0.99999995 0.99999995 0.99999995 1.         0.99999995\n",
      "  1.         0.99999995 0.99999995 0.99999995 1.         1.\n",
      "  0.99999995 1.        ]\n",
      " [1.         1.         0.99999995 0.99999995 0.99999995 1.\n",
      "  1.         0.99999995 0.99999995 1.         1.         0.99999995\n",
      "  1.         0.99999995 0.99999995 0.99999995 1.         1.\n",
      "  0.99999995 1.        ]\n",
      " [1.         1.         0.99999995 0.99999447 0.99999447 1.\n",
      "  1.         0.99999995 0.99999995 0.99999995 0.99999995 0.99999995\n",
      "  1.         0.99999447 0.99999995 0.99999995 1.         1.\n",
      "  0.99999995 1.        ]]\n"
     ]
    }
   ],
   "source": [
    "#testing\n",
    "chromosome = decode_chromosome(20)\n",
    "#output decode chromosome sebanyak 20\n",
    "print (\"Hasil Chromosome: \\n\", chromosome)\n",
    "\n",
    "population = create_population(4, 20)\n",
    "#output population sebanyak 4 kelompok yang terdiri dari 20 biner\n",
    "print (\"\\n Hasil Population: \\n\", population)\n",
    "\n",
    "best = best_pop(chromosome, population)\n",
    "print (\"\\n identik atau terbaik: \\n\", best)\n",
    "\n",
    "#fitness_score1 menggunakan function fitness 1 lanjutin yang ini\n",
    "fitness_score1 = fitness(func1, chromosome, population)\n",
    "print (\"\\n fitness terbaik dari function 1: \\n\",fitness_score1)\n",
    "\n",
    "#fitness_score2 menggunakan function fitness\n",
    "fitness_score2 = fitness(func2, chromosome, population)\n",
    "print (\"\\n fitness terbaik dari function 2: \\n\",fitness_score2)"
   ]
  },
  {
   "cell_type": "code",
   "execution_count": 14,
   "metadata": {},
   "outputs": [],
   "source": [
    "#memilih parent dengan cara turnament breed dengan menggunakan metode atau procedur kromosom dan population\n",
    "def turney_individu(population, best):\n",
    "    #dapatkan terlebih dahulu ukuran dari populasinya\n",
    "    pop_size = len(best) #len mengambil string sebagai parameter\n",
    "    \n",
    "    #pilih individu untuk menjadi anggota turnamen\n",
    "    in1 = random.randint(0, pop_size-1)\n",
    "    in2 = random.randint(0, pop_size-1)\n",
    "    \n",
    "    #score masing masing individu\n",
    "    sc_ind1 = best[in1]\n",
    "    sc_ind2 = best[in2]\n",
    "    \n",
    "    #bandingkan dan pilih yang terbaik\n",
    "    if sc_ind1 >= sc_ind2:\n",
    "        best_ind = in1\n",
    "    else:\n",
    "        best_ind = in2\n",
    "    \n",
    "    #return individu terbaik untuk dijadikan parent nantinya\n",
    "    return population[best_ind, :]"
   ]
  },
  {
   "cell_type": "code",
   "execution_count": 15,
   "metadata": {},
   "outputs": [
    {
     "name": "stdout",
     "output_type": "stream",
     "text": [
      "Chromosome Orang tua:\n",
      "[0. 1. 1. 1. 0. 0. 1. 1. 1. 1. 1. 0. 1. 1. 0. 1. 1. 1. 1. 1.]\n",
      "[1. 0. 0. 0. 1. 0. 0. 1. 1. 1. 1. 0. 1. 0. 1. 0. 1. 1. 0. 0.]\n"
     ]
    }
   ],
   "source": [
    "# setelah mendapat individu terbaik dari turnamen sebagai bibit dari orangtua\n",
    "\n",
    "# waktunya untuk test seleksi orang tua\n",
    "\n",
    "chromosome = decode_chromosome(20)\n",
    "population = create_population(4,20)\n",
    "best = best_pop(chromosome, population)\n",
    "\n",
    "#tampilkan nilai dari kedua orang tua\n",
    "ortu1 = turney_individu(population, best)\n",
    "ortu2 = turney_individu(population, best)\n",
    "print (\"Chromosome Orang tua:\")\n",
    "print (ortu1)\n",
    "print (ortu2)"
   ]
  },
  {
   "cell_type": "code",
   "execution_count": 16,
   "metadata": {},
   "outputs": [],
   "source": [
    "#pemilihan anak/children secara crossover atau Metode Cross Over\n",
    "def crossover_anak(ortu1,ortu2):\n",
    "    cr = len(ortu1)\n",
    "    \n",
    "    #pilih crossover point menggunakan random randint\n",
    "    c_point = random.randint(1,pchromosome-1)\n",
    "    \n",
    "    anak1 = np.hstack((ortu1[0:c_point],ortu2[0:c_point:]))\n",
    "    anak2 = np.hstack((ortu2[0:c_point],ortu1[0:c_point:]))\n",
    "    #menggunakan hstack dari numpy untuk menggabungkan 2 array\n",
    "    #yaitu array ortu1 dan ortu 2\n",
    "    \n",
    "    return (anak1,anak2)"
   ]
  },
  {
   "cell_type": "code",
   "execution_count": 17,
   "metadata": {},
   "outputs": [
    {
     "name": "stdout",
     "output_type": "stream",
     "text": [
      "Chromosome Ortu yang dipakai: \n",
      "\n",
      "[1. 0. 1. 1. 1. 1. 1. 1. 1. 1. 1. 0. 1. 1. 1. 1. 1. 1. 1. 1.]\n",
      "[0. 0. 1. 0. 0. 0. 1. 0. 0. 0. 0. 1. 0. 1. 0. 0. 0. 0. 0. 0.]\n",
      "\n",
      " Hasil anak dari crossover: \n",
      "\n",
      "[1. 0. 1. 1. 1. 0. 0. 1. 0. 0.]\n",
      "[0. 0. 1. 0. 0. 1. 0. 1. 1. 1.]\n"
     ]
    }
   ],
   "source": [
    "chromosome = decode_chromosome(20)\n",
    "population = create_population(4,20)\n",
    "best = best_pop(chromosome, population)\n",
    "\n",
    "ortu1 = turney_individu(population, best)\n",
    "ortu2 = turney_individu(population, best)\n",
    "\n",
    "#panggil prosedur crossover\n",
    "anak1, anak2 = crossover_anak(ortu1,ortu2)\n",
    "\n",
    "print (\"Chromosome Ortu yang dipakai: \\n\")\n",
    "print (ortu1)\n",
    "print (ortu2)\n",
    "\n",
    "#hasil anak dari crossover_anak\n",
    "print (\"\\n Hasil anak dari crossover: \\n\")\n",
    "print (anak1)\n",
    "print (anak2)"
   ]
  },
  {
   "cell_type": "code",
   "execution_count": 18,
   "metadata": {},
   "outputs": [],
   "source": [
    "def proc_mutasi (population, mutprob): #mutation probability\n",
    "    \n",
    "    #random array yang akan dimutasikan'\n",
    "    random_mut = np.random.random(size=(population.shape))\n",
    "    \n",
    "    mut_boolean = random_mut <= mutprob\n",
    "    \n",
    "    population[mut_boolean] = np.logical_not(population[mut_boolean])\n",
    "    \n",
    "    #return hasil populasi yang sudah di random oleh permutasi\n",
    "    return(population)"
   ]
  },
  {
   "cell_type": "code",
   "execution_count": 19,
   "metadata": {},
   "outputs": [
    {
     "name": "stdout",
     "output_type": "stream",
     "text": [
      "Populasi sebelum dimutasi: \n",
      "\n",
      "[[1. 1. 1. 1. 1. 1. 1. 1. 0. 1. 1. 1. 1. 1. 1. 1. 1. 0.]\n",
      " [1. 1. 1. 1. 1. 1. 1. 1. 0. 1. 1. 1. 1. 1. 1. 1. 1. 0.]]\n",
      "\n",
      " Populasi setelah dimutasi: \n",
      "\n",
      "[[1. 1. 1. 1. 1. 1. 1. 1. 0. 1. 1. 1. 1. 1. 1. 1. 0. 0.]\n",
      " [1. 1. 1. 1. 1. 1. 1. 1. 0. 1. 1. 1. 0. 1. 1. 1. 0. 0.]]\n"
     ]
    }
   ],
   "source": [
    "#implementasi mutasi random\n",
    "chromosome = decode_chromosome(20)\n",
    "population = create_population(4,20)\n",
    "best = best_pop(chromosome, population)\n",
    "\n",
    "ortu1 = turney_individu(population, best)\n",
    "ortu2 = turney_individu(population, best) \n",
    "\n",
    "anak1, anak2 = crossover_anak(ortu1,ortu2)\n",
    "population = np.stack((anak1,anak2))\n",
    "print (\"Populasi sebelum dimutasi: \\n\")\n",
    "print (population)\n",
    "\n",
    "#masukkan nilai probabilitas untuk dimasukkan ke dalam parameter mutasi\n",
    "mutprob = 0.1 #nilai probabilitasnya\n",
    "population = proc_mutasi(population, mutprob)\n",
    "print (\"\\n Populasi setelah dimutasi: \\n\")\n",
    "print (population)\n"
   ]
  },
  {
   "cell_type": "code",
   "execution_count": null,
   "metadata": {},
   "outputs": [],
   "source": []
  }
 ],
 "metadata": {
  "kernelspec": {
   "display_name": "Python 3",
   "language": "python",
   "name": "python3"
  },
  "language_info": {
   "codemirror_mode": {
    "name": "ipython",
    "version": 3
   },
   "file_extension": ".py",
   "mimetype": "text/x-python",
   "name": "python",
   "nbconvert_exporter": "python",
   "pygments_lexer": "ipython3",
   "version": "3.7.3"
  }
 },
 "nbformat": 4,
 "nbformat_minor": 2
}
